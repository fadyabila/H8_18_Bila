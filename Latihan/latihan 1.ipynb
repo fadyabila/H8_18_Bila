{
 "cells": [
  {
   "cell_type": "code",
   "execution_count": 2,
   "metadata": {},
   "outputs": [
    {
     "name": "stdout",
     "output_type": "stream",
     "text": [
      "Bila\n"
     ]
    }
   ],
   "source": [
    "print (\"Bila\")"
   ]
  }
 ],
 "metadata": {
  "kernelspec": {
   "display_name": "Python 3.9.12 ('base')",
   "language": "python",
   "name": "python3"
  },
  "language_info": {
   "codemirror_mode": {
    "name": "ipython",
    "version": 3
   },
   "file_extension": ".py",
   "mimetype": "text/x-python",
   "name": "python",
   "nbconvert_exporter": "python",
   "pygments_lexer": "ipython3",
   "version": "3.9.12"
  },
  "orig_nbformat": 4,
  "vscode": {
   "interpreter": {
    "hash": "788ba5059356174d00b30ed4f1704bdabb634ede9e1ceaa8c463ba554886e3d3"
   }
  }
 },
 "nbformat": 4,
 "nbformat_minor": 2
}
