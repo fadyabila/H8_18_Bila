{
 "cells": [
  {
   "attachments": {},
   "cell_type": "markdown",
   "metadata": {},
   "source": [
    "Buatlah sebuah list dengan value berupa:\n",
    "\n",
    "  numbers = [\n",
    "  951, 402, 984, 651, 360, 69, 408, 319, 601, 485, 980, 507, 725, 547, 544, 615, 83, 165, 141, 501, 263, 617, 865, 575, 219, 390, 984, 592, 236, 105, 942, 941, 386, 462, 47, 418, 907, 344, 236, 375, 823, 566, 597, 978, 328, 615, 953, 345, 399, 162, 758, 219, 918, 237, 412, 566, 826, 248, 866, 950, 626, 949\n",
    "  ]\n",
    "\n",
    "- Loop dan print semua angka genap dari list angka diatas dengan urutan yang sama.\n",
    "- Jangan mencetak angka apapun yang muncul setelah angka 918 berdasarkan posisi angka tersebut pada list diatas.\n",
    "- Tampilkan pesan Done setelah looping berakhir."
   ]
  },
  {
   "cell_type": "code",
   "execution_count": 1,
   "metadata": {},
   "outputs": [
    {
     "name": "stdout",
     "output_type": "stream",
     "text": [
      "[951, 402, 984, 651, 360, 69, 408, 319, 601, 485, 980, 507, 725, 547, 544, 615, 83, 165, 141, 501, 263, 617, 865, 575, 219, 390, 984, 592, 236, 105, 942, 941, 386, 462, 47, 418, 907, 344, 236, 375, 823, 566, 597, 978, 328, 615, 953, 345, 399, 162, 758, 219, 918, 237, 412, 566, 826, 248, 866, 950, 626, 949]\n"
     ]
    }
   ],
   "source": [
    "numbers = [951, 402, 984, 651, 360, 69, 408, 319, \n",
    "           601, 485, 980, 507, 725, 547, 544, 615,\n",
    "           83, 165, 141, 501, 263, 617, 865, 575, \n",
    "           219, 390, 984, 592, 236, 105, 942, 941,\n",
    "           386, 462, 47, 418, 907, 344, 236, 375, \n",
    "           823, 566, 597, 978, 328, 615, 953, 345,\n",
    "           399, 162, 758, 219, 918, 237, 412, 566, \n",
    "           826, 248, 866, 950, 626, 949]\n",
    "\n",
    "print (numbers)"
   ]
  },
  {
   "cell_type": "code",
   "execution_count": 8,
   "metadata": {},
   "outputs": [
    {
     "name": "stdout",
     "output_type": "stream",
     "text": [
      "402 984 360 408 980 544 390 984 592 236 942 386 462 418 344 236 566 978 328 162 758 918 412 566 826 248 866 950 626 "
     ]
    }
   ],
   "source": [
    "for even_num in numbers:\n",
    "    if even_num % 2 == 0:\n",
    "        print(even_num, end=\" \")"
   ]
  },
  {
   "cell_type": "code",
   "execution_count": 9,
   "metadata": {},
   "outputs": [
    {
     "name": "stdout",
     "output_type": "stream",
     "text": [
      "even_num:  [402, 984, 360, 408, 980, 544, 390, 984, 592, 236, 942, 386, 462, 418, 344, 236, 566, 978, 328, 162, 758, 918, 412, 566, 826, 248, 866, 950, 626]\n"
     ]
    }
   ],
   "source": [
    "even_num1 = [num for num in numbers if num % 2 == 0]\n",
    "print(\"even_num: \", even_num1)"
   ]
  },
  {
   "cell_type": "code",
   "execution_count": 10,
   "metadata": {},
   "outputs": [
    {
     "name": "stdout",
     "output_type": "stream",
     "text": [
      "index 0 contains b 402\n",
      "index 1 contains b 984\n",
      "index 2 contains b 360\n",
      "index 3 contains b 408\n",
      "index 4 contains b 980\n",
      "index 5 contains b 544\n",
      "index 6 contains b 390\n",
      "index 7 contains b 984\n",
      "index 8 contains b 592\n",
      "index 9 contains b 236\n",
      "index 10 contains b 942\n",
      "index 11 contains b 386\n",
      "index 12 contains b 462\n",
      "index 13 contains b 418\n",
      "index 14 contains b 344\n",
      "index 15 contains b 236\n",
      "index 16 contains b 566\n",
      "index 17 contains b 978\n",
      "index 18 contains b 328\n",
      "index 19 contains b 162\n",
      "index 20 contains b 758\n",
      "index 21 contains b 918\n",
      "index 22 contains b 412\n",
      "index 23 contains b 566\n",
      "index 24 contains b 826\n",
      "index 25 contains b 248\n",
      "index 26 contains b 866\n",
      "index 27 contains b 950\n",
      "index 28 contains b 626\n"
     ]
    }
   ],
   "source": [
    "for a in range (len(even_num1)):\n",
    "    print(\"index\", a, \"contains b\", even_num1[a])"
   ]
  },
  {
   "cell_type": "code",
   "execution_count": 21,
   "metadata": {},
   "outputs": [
    {
     "name": "stdout",
     "output_type": "stream",
     "text": [
      "402\n",
      "984\n",
      "360\n",
      "408\n",
      "980\n",
      "544\n",
      "390\n",
      "984\n",
      "592\n",
      "236\n",
      "942\n",
      "386\n",
      "462\n",
      "418\n",
      "344\n",
      "236\n",
      "566\n",
      "978\n",
      "328\n",
      "162\n",
      "758\n",
      "918\n",
      "done\n"
     ]
    }
   ],
   "source": [
    "for a in range (0, 22):\n",
    "    if a == \" \":\n",
    "        True\n",
    "    else: print (even_num1[a])\n",
    "print (\"done\")"
   ]
  }
 ],
 "metadata": {
  "kernelspec": {
   "display_name": "Python 3.9.13 64-bit (microsoft store)",
   "language": "python",
   "name": "python3"
  },
  "language_info": {
   "codemirror_mode": {
    "name": "ipython",
    "version": 3
   },
   "file_extension": ".py",
   "mimetype": "text/x-python",
   "name": "python",
   "nbconvert_exporter": "python",
   "pygments_lexer": "ipython3",
   "version": "3.9.13"
  },
  "orig_nbformat": 4,
  "vscode": {
   "interpreter": {
    "hash": "331ed3a0357fb01980b613d6793749ff330da54b184edd4faece5e039078e64a"
   }
  }
 },
 "nbformat": 4,
 "nbformat_minor": 2
}
