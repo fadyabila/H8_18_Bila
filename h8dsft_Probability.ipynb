{
 "cells": [
  {
   "attachments": {},
   "cell_type": "markdown",
   "metadata": {},
   "source": [
    "# Import the Libary"
   ]
  },
  {
   "cell_type": "code",
   "execution_count": 1,
   "metadata": {},
   "outputs": [],
   "source": [
    "%matplotlib inline\n",
    "import random"
   ]
  },
  {
   "attachments": {},
   "cell_type": "markdown",
   "metadata": {},
   "source": [
    "# Soal\n",
    "Buatlah sebuah kode untuk mensimulasikan melempar koin sebanyak 50.000 kali dengan assign value random berupa 0 dan 1 untuk kepala atau ekor. Setiap kali koin dilempar, peluang untuk mendapatkan kepala atau ekor adalah 50%."
   ]
  },
  {
   "cell_type": "code",
   "execution_count": 2,
   "metadata": {},
   "outputs": [],
   "source": [
    "# Membuat list dengan dua elemen: kepala dan ekor\n",
    "\n",
    "kepala_ekor = [0, 0]"
   ]
  },
  {
   "cell_type": "code",
   "execution_count": 4,
   "metadata": {},
   "outputs": [
    {
     "name": "stdout",
     "output_type": "stream",
     "text": [
      "[50186, 49814]\n"
     ]
    }
   ],
   "source": [
    "# Loop dengan 50.000 percobaan\n",
    "\n",
    "trials = 50000\n",
    "trial = 0\n",
    "\n",
    "while trial < trials:\n",
    "    trial = trial + 1\n",
    "    # Mendapatkan nilai acak 0 atau 1\n",
    "    lempar = random.randint(0, 1)\n",
    "    # Increment list berdasarkan hasil lempar\n",
    "    kepala_ekor[lempar] = kepala_ekor[lempar] + 1\n",
    "\n",
    "print(kepala_ekor)"
   ]
  }
 ],
 "metadata": {
  "kernelspec": {
   "display_name": "Python 3",
   "language": "python",
   "name": "python3"
  },
  "language_info": {
   "codemirror_mode": {
    "name": "ipython",
    "version": 3
   },
   "file_extension": ".py",
   "mimetype": "text/x-python",
   "name": "python",
   "nbconvert_exporter": "python",
   "pygments_lexer": "ipython3",
   "version": "3.9.13"
  },
  "orig_nbformat": 4,
  "vscode": {
   "interpreter": {
    "hash": "331ed3a0357fb01980b613d6793749ff330da54b184edd4faece5e039078e64a"
   }
  }
 },
 "nbformat": 4,
 "nbformat_minor": 2
}
