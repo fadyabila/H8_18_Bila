{
 "cells": [
  {
   "attachments": {},
   "cell_type": "markdown",
   "metadata": {},
   "source": [
    "# Import library"
   ]
  },
  {
   "cell_type": "code",
   "execution_count": 1,
   "metadata": {},
   "outputs": [],
   "source": [
    "import numpy as np"
   ]
  },
  {
   "attachments": {},
   "cell_type": "markdown",
   "metadata": {},
   "source": [
    "# Soal 1\n",
    "Buatlah vektor di bawah ini dengan Python: \n",
    "\n",
    "(17, 22, 19)\n"
   ]
  },
  {
   "cell_type": "code",
   "execution_count": 2,
   "metadata": {},
   "outputs": [
    {
     "data": {
      "text/plain": [
       "array([17, 22, 19])"
      ]
     },
     "execution_count": 2,
     "metadata": {},
     "output_type": "execute_result"
    }
   ],
   "source": [
    "a = [17, 22, 19]\n",
    "vect_a = np.array(a)\n",
    "vect_a"
   ]
  },
  {
   "attachments": {},
   "cell_type": "markdown",
   "metadata": {},
   "source": [
    "# Soal 2\n",
    "Diberikan3 buah vector 3 dimensi: 𝑨=17, 22, 19, 𝑩=10, 20, 11, 𝑪=5, 12, 9\n",
    "\n",
    "Hitunglah:\n",
    "1. A+B\n",
    "2. B-C\n",
    "3. A dot C\n",
    "4. A x B\n",
    "5. norm A\n",
    "6. Sudut antara vektor A dan B\n"
   ]
  },
  {
   "cell_type": "code",
   "execution_count": 3,
   "metadata": {},
   "outputs": [
    {
     "data": {
      "text/plain": [
       "array([17, 22, 19])"
      ]
     },
     "execution_count": 3,
     "metadata": {},
     "output_type": "execute_result"
    }
   ],
   "source": [
    "A = [17,22, 19]\n",
    "vect_A = np.array(A)\n",
    "vect_A"
   ]
  },
  {
   "cell_type": "code",
   "execution_count": 4,
   "metadata": {},
   "outputs": [
    {
     "data": {
      "text/plain": [
       "array([10, 20, 11])"
      ]
     },
     "execution_count": 4,
     "metadata": {},
     "output_type": "execute_result"
    }
   ],
   "source": [
    "B = [10, 20, 11]\n",
    "vect_B = np.array(B)\n",
    "vect_B"
   ]
  },
  {
   "cell_type": "code",
   "execution_count": 5,
   "metadata": {},
   "outputs": [
    {
     "data": {
      "text/plain": [
       "array([ 5, 12,  9])"
      ]
     },
     "execution_count": 5,
     "metadata": {},
     "output_type": "execute_result"
    }
   ],
   "source": [
    "C = [5, 12, 9]\n",
    "vect_C = np.array(C)\n",
    "vect_C"
   ]
  },
  {
   "attachments": {},
   "cell_type": "markdown",
   "metadata": {},
   "source": [
    "## A + B"
   ]
  },
  {
   "cell_type": "code",
   "execution_count": 7,
   "metadata": {},
   "outputs": [
    {
     "name": "stdout",
     "output_type": "stream",
     "text": [
      "Penjumlahan [27 42 30]\n"
     ]
    }
   ],
   "source": [
    "print('Penjumlahan', vect_A + vect_B)"
   ]
  },
  {
   "attachments": {},
   "cell_type": "markdown",
   "metadata": {},
   "source": [
    "## B - C"
   ]
  },
  {
   "cell_type": "code",
   "execution_count": 8,
   "metadata": {},
   "outputs": [
    {
     "name": "stdout",
     "output_type": "stream",
     "text": [
      "Pengurangan [5 8 2]\n"
     ]
    }
   ],
   "source": [
    "print('Pengurangan', vect_B - vect_C)"
   ]
  },
  {
   "attachments": {},
   "cell_type": "markdown",
   "metadata": {},
   "source": [
    "## A dot C"
   ]
  },
  {
   "cell_type": "code",
   "execution_count": 10,
   "metadata": {},
   "outputs": [
    {
     "name": "stdout",
     "output_type": "stream",
     "text": [
      "520\n"
     ]
    }
   ],
   "source": [
    "print(np.dot(vect_A, vect_C))"
   ]
  },
  {
   "attachments": {},
   "cell_type": "markdown",
   "metadata": {},
   "source": [
    "## A x B"
   ]
  },
  {
   "cell_type": "code",
   "execution_count": 11,
   "metadata": {},
   "outputs": [
    {
     "name": "stdout",
     "output_type": "stream",
     "text": [
      "Perkalian [170 440 209]\n"
     ]
    }
   ],
   "source": [
    "print('Perkalian', vect_A * vect_B)"
   ]
  },
  {
   "attachments": {},
   "cell_type": "markdown",
   "metadata": {},
   "source": [
    "## norm A"
   ]
  },
  {
   "cell_type": "code",
   "execution_count": 12,
   "metadata": {},
   "outputs": [
    {
     "name": "stdout",
     "output_type": "stream",
     "text": [
      "Manhattan Distance\n",
      "58.0\n",
      " \n"
     ]
    }
   ],
   "source": [
    "# Manhattan Distance\n",
    "\n",
    "print('Manhattan Distance')\n",
    "print(np.linalg.norm(vect_A, 1))\n",
    "print(' ')"
   ]
  },
  {
   "cell_type": "code",
   "execution_count": 14,
   "metadata": {},
   "outputs": [
    {
     "name": "stdout",
     "output_type": "stream",
     "text": [
      "Euclidean Distance\n",
      "33.67491648096547\n"
     ]
    }
   ],
   "source": [
    "# Euclidean Distance\n",
    "\n",
    "print('Euclidean Distance')\n",
    "print(np.linalg.norm(vect_A))"
   ]
  },
  {
   "attachments": {},
   "cell_type": "markdown",
   "metadata": {},
   "source": [
    "## Sudut antara vektor A dan B"
   ]
  },
  {
   "cell_type": "code",
   "execution_count": 15,
   "metadata": {},
   "outputs": [
    {
     "data": {
      "text/plain": [
       "0.9759590023331435"
      ]
     },
     "execution_count": 15,
     "metadata": {},
     "output_type": "execute_result"
    }
   ],
   "source": [
    "# A & B are two vectors and θ is the angle between two vectors A and B.\n",
    "\n",
    "cos_theta = (vect_A @ vect_B) / (np.linalg.norm(vect_A) * np.linalg.norm(vect_B))\n",
    "cos_theta"
   ]
  }
 ],
 "metadata": {
  "kernelspec": {
   "display_name": "Python 3",
   "language": "python",
   "name": "python3"
  },
  "language_info": {
   "codemirror_mode": {
    "name": "ipython",
    "version": 3
   },
   "file_extension": ".py",
   "mimetype": "text/x-python",
   "name": "python",
   "nbconvert_exporter": "python",
   "pygments_lexer": "ipython3",
   "version": "3.9.13"
  },
  "orig_nbformat": 4,
  "vscode": {
   "interpreter": {
    "hash": "331ed3a0357fb01980b613d6793749ff330da54b184edd4faece5e039078e64a"
   }
  }
 },
 "nbformat": 4,
 "nbformat_minor": 2
}
